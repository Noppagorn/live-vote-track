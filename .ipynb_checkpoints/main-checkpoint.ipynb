{
 "cells": [
  {
   "cell_type": "code",
   "execution_count": 4,
   "id": "1dcd9d3d",
   "metadata": {},
   "outputs": [
    {
     "name": "stdout",
     "output_type": "stream",
     "text": [
      "Requirement already satisfied: opencv-python in c:\\users\\tongn\\anaconda3\\envs\\live-vote-track\\lib\\site-packages (4.11.0.86)\n",
      "Requirement already satisfied: numpy>=1.17.0 in c:\\users\\tongn\\anaconda3\\envs\\live-vote-track\\lib\\site-packages (from opencv-python) (2.0.2)\n"
     ]
    }
   ],
   "source": [
    "!pip install opencv-python"
   ]
  },
  {
   "cell_type": "code",
   "execution_count": 1,
   "id": "c6585fab",
   "metadata": {},
   "outputs": [],
   "source": [
    "from ultralytics import YOLO\n",
    "import cv2\n",
    "from PIL import Image\n",
    "import numpy as np\n",
    "import matplotlib.pyplot as plt\n",
    "# from moviepy import VideoFileClip\n",
    "from tqdm import tqdm\n",
    "import torch\n",
    "import os"
   ]
  },
  {
   "cell_type": "code",
   "execution_count": 6,
   "id": "7d14237c",
   "metadata": {},
   "outputs": [],
   "source": [
    "%matplotlib inline\n",
    "plt.rcParams[\"figure.figsize\"] = (20, 10)"
   ]
  },
  {
   "cell_type": "code",
   "execution_count": 2,
   "id": "3aa2466b",
   "metadata": {},
   "outputs": [],
   "source": [
    "model = YOLO(\"yolo11n.yaml\")"
   ]
  },
  {
   "cell_type": "code",
   "execution_count": 3,
   "id": "c12d63e8",
   "metadata": {},
   "outputs": [],
   "source": [
    "base_project = \"live-vote-track\"\n",
    "dataset_part = os.path.join(\".\", \"prepared_dataset\", \"score\", \"coco.yaml\")\n",
    "test_image_part = os.path.join(\".\", \"dataset\", \"raw\", \"raw_15.jpg\")\n",
    "# video_path = os.path.join(\".\", \"data\", \"raw_sources\", \"pragnent\", \"VIGI C340 2.0_20250104145933_764.mp4\")\n",
    "# target_video_path = os.path.join(\".\", \"data\", \"raw_sources\", \"pragnent\", \"detected VIGI C340 2.0_20250104145933_764.mp4\")"
   ]
  },
  {
   "cell_type": "code",
   "execution_count": null,
   "id": "f36e5383",
   "metadata": {},
   "outputs": [],
   "source": [
    "# Evaluate model performance on the validation set\n",
    "metrics = model.val()"
   ]
  },
  {
   "cell_type": "code",
   "execution_count": null,
   "id": "7fc5808b",
   "metadata": {},
   "outputs": [],
   "source": [
    "# Perform object detection on an image\n",
    "results = model(test_image_part)\n",
    "results[0].show()"
   ]
  },
  {
   "cell_type": "code",
   "execution_count": null,
   "id": "6b543254",
   "metadata": {},
   "outputs": [],
   "source": [
    "# Export the model to ONNX format\n",
    "path = model.export(format=\"onnx\")  # return path to exported model"
   ]
  }
 ],
 "metadata": {
  "kernelspec": {
   "display_name": "live-vote-track",
   "language": "python",
   "name": "live-vote-track"
  },
  "language_info": {
   "codemirror_mode": {
    "name": "ipython",
    "version": 3
   },
   "file_extension": ".py",
   "mimetype": "text/x-python",
   "name": "python",
   "nbconvert_exporter": "python",
   "pygments_lexer": "ipython3",
   "version": "3.9.21"
  }
 },
 "nbformat": 4,
 "nbformat_minor": 5
}

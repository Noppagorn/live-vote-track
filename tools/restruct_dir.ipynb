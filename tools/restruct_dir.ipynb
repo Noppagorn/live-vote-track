{
 "cells": [
  {
   "cell_type": "code",
   "execution_count": 4,
   "id": "f57e5605-e42a-4413-9224-9e6e21bab87d",
   "metadata": {},
   "outputs": [],
   "source": [
    "import os\n",
    "import shutil\n",
    "import random"
   ]
  },
  {
   "cell_type": "code",
   "execution_count": 5,
   "id": "24c42a01-4f7f-4d41-a3e0-c354fc226bb5",
   "metadata": {},
   "outputs": [],
   "source": [
    "# usage\n",
    "image_dir = \"../prepared_dataset/score/images\"\n",
    "label_dir = \"../prepared_dataset/score/labels\"\n",
    "output_dir = \"../prepared_dataset/score/trainning\"\n",
    "split_ratios = {\n",
    "    'train': 0.7,  # 70% of the data\n",
    "    'test': 0.2,   # 20% of the data\n",
    "    'val': 0.1     # 10% of the data\n",
    "}"
   ]
  },
  {
   "cell_type": "code",
   "execution_count": 6,
   "id": "d9f81689-186a-4e83-9ab9-41f9ae9f8c3e",
   "metadata": {},
   "outputs": [],
   "source": [
    "def restructure_dataset(image_dir, label_dir, output_dir, split_ratios):\n",
    "    \"\"\"\n",
    "    Restructure image and label directories for object detection training.\n",
    "\n",
    "    Parameters:\n",
    "    - image_dir: Directory containing image files.\n",
    "    - label_dir: Directory containing annotation label files.\n",
    "    - output_dir: Directory to save the restructured dataset.\n",
    "    - split_ratios: Dictionary with keys 'train', 'test', 'val' and their corresponding percentage values.\n",
    "    \"\"\"\n",
    "    # Validate split_ratios\n",
    "    if sum(split_ratios.values()) != 1.0:\n",
    "        raise ValueError(\"Split ratios must sum to 1.0\")\n",
    "\n",
    "    # Get all image and label files\n",
    "    images = sorted([f for f in os.listdir(image_dir) if os.path.isfile(os.path.join(image_dir, f))])\n",
    "    labels = sorted([f for f in os.listdir(label_dir) if os.path.isfile(os.path.join(label_dir, f))])\n",
    "\n",
    "    if len(images) != len(labels):\n",
    "        raise ValueError(\"Number of images and labels do not match\")\n",
    "\n",
    "    # Pair images with their corresponding labels\n",
    "    data_pairs = list(zip(images, labels))\n",
    "\n",
    "    # Shuffle data pairs\n",
    "    random.shuffle(data_pairs)\n",
    "\n",
    "    # Split data into train, test, and val sets\n",
    "    total_count = len(data_pairs)\n",
    "    train_count = int(total_count * split_ratios['train'])\n",
    "    test_count = int(total_count * split_ratios['test'])\n",
    "\n",
    "    train_data = data_pairs[:train_count]\n",
    "    test_data = data_pairs[train_count:train_count + test_count]\n",
    "    val_data = data_pairs[train_count + test_count:]\n",
    "\n",
    "    splits = {\n",
    "        'train': train_data,\n",
    "        'test': test_data,\n",
    "        'val': val_data\n",
    "    }\n",
    "\n",
    "    # Create output directories\n",
    "    for split in splits:\n",
    "        os.makedirs(os.path.join(output_dir, split, 'images'), exist_ok=True)\n",
    "        os.makedirs(os.path.join(output_dir, split, 'labels'), exist_ok=True)\n",
    "\n",
    "    # Copy files to respective directories\n",
    "    for split, data in splits.items():\n",
    "        for img_file, lbl_file in data:\n",
    "            shutil.copy(os.path.join(image_dir, img_file), os.path.join(output_dir, split, 'images', img_file))\n",
    "            shutil.copy(os.path.join(label_dir, lbl_file), os.path.join(output_dir, split, 'labels', lbl_file))\n",
    "\n",
    "    print(\"Dataset restructuring complete.\")"
   ]
  },
  {
   "cell_type": "markdown",
   "id": "b65eb442-97a3-40a8-812c-f459cf2e86b2",
   "metadata": {},
   "source": [
    "## Execute"
   ]
  },
  {
   "cell_type": "code",
   "execution_count": 7,
   "id": "cbf8173f-0d10-4edf-88e7-b4ef1347dcde",
   "metadata": {},
   "outputs": [
    {
     "name": "stdout",
     "output_type": "stream",
     "text": [
      "Dataset restructuring complete.\n"
     ]
    }
   ],
   "source": [
    "restructure_dataset(image_dir, label_dir, output_dir, split_ratios)"
   ]
  },
  {
   "cell_type": "code",
   "execution_count": null,
   "id": "9ccc5863",
   "metadata": {},
   "outputs": [],
   "source": []
  }
 ],
 "metadata": {
  "kernelspec": {
   "display_name": "yoloenv",
   "language": "python",
   "name": "yoloenv"
  },
  "language_info": {
   "codemirror_mode": {
    "name": "ipython",
    "version": 3
   },
   "file_extension": ".py",
   "mimetype": "text/x-python",
   "name": "python",
   "nbconvert_exporter": "python",
   "pygments_lexer": "ipython3",
   "version": "3.12.4"
  }
 },
 "nbformat": 4,
 "nbformat_minor": 5
}
